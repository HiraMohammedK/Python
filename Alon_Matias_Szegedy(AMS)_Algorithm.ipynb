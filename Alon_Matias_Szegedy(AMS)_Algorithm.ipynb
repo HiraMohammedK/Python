{
  "nbformat": 4,
  "nbformat_minor": 0,
  "metadata": {
    "colab": {
      "provenance": []
    },
    "kernelspec": {
      "name": "python3",
      "display_name": "Python 3"
    },
    "language_info": {
      "name": "python"
    }
  },
  "cells": [
    {
      "cell_type": "code",
      "source": [
        "!pip install pyspark\n",
        "from pyspark import SparkContext\n",
        "import random\n",
        "from collections import Counter\n",
        "\n",
        "sc = SparkContext(\"local\", \"AMS_SecondMoment\")\n",
        "\n",
        "# Example stream from assignment (Example 4.7)\n",
        "stream = ['a', 'b', 'c', 'b', 'd', 'a', 'c', 'd', 'a', 'b', 'd', 'c', 'a', 'a', 'b']\n",
        "n = len(stream)\n",
        "print(\"Length of the stream: \", n)\n",
        "stream_rdd = sc.parallelize(list(enumerate(stream, start=1)))\n",
        "\n",
        "def ams_single_trial(i, ei):\n",
        "    def count_ci(record):\n",
        "        pos, val = record\n",
        "        return pos >= i and val == ei\n",
        "\n",
        "    ci = stream_rdd.filter(count_ci).count()\n",
        "    estimate = n * (2 * ci - 1)\n",
        "    return (i, ei, ci, estimate)\n",
        "\n",
        "num_trials = 3\n",
        "results = []\n",
        "for _ in range(num_trials):\n",
        "    i = random.randint(1, n)\n",
        "    ei = stream[i - 1]\n",
        "    trial_result = ams_single_trial(i, ei)\n",
        "    results.append(trial_result)\n",
        "\n",
        "for res in results:\n",
        "    i, ei, ci, estimate = res\n",
        "    print(f\"Trial i={i}, e(i)='{ei}', c(i)={ci}, Estimate={estimate}\")\n",
        "\n",
        "f2_estimate = sum([r[3] for r in results]) / num_trials\n",
        "print(f\"\\nFinal AMS F2 Estimate (averaged over {num_trials} trials): {f2_estimate}\")\n",
        "\n",
        "freq = Counter(stream)\n",
        "actual_f2 = sum([v ** 2 for v in freq.values()])\n",
        "print(f\"Actual F2 (Ground Truth): {actual_f2}\")\n",
        "\n",
        "sc.stop()\n"
      ],
      "metadata": {
        "colab": {
          "base_uri": "https://localhost:8080/"
        },
        "id": "DwluPo_U-CuU",
        "outputId": "90906ca9-fe3e-46fe-f287-1b5a19619e8e"
      },
      "execution_count": 5,
      "outputs": [
        {
          "output_type": "stream",
          "name": "stdout",
          "text": [
            "Requirement already satisfied: pyspark in /usr/local/lib/python3.11/dist-packages (3.5.5)\n",
            "Requirement already satisfied: py4j==0.10.9.7 in /usr/local/lib/python3.11/dist-packages (from pyspark) (0.10.9.7)\n",
            "Trial i=1, e(i)='a', c(i)=5, Estimate=135\n",
            "Trial i=7, e(i)='c', c(i)=2, Estimate=45\n",
            "Trial i=8, e(i)='d', c(i)=2, Estimate=45\n",
            "\n",
            "Final AMS F2 Estimate (averaged over 3 trials): 75.0\n",
            "Actual F2 (Ground Truth): 59\n"
          ]
        }
      ]
    },
    {
      "cell_type": "code",
      "source": [
        "sc = SparkContext(\"local\", \"AMS_SecondMoment\")\n",
        "\n",
        "stream = ['a', 'b', 'c', 'b', 'd', 'a', 'c', 'd', 'a', 'b', 'd', 'c', 'a', 'a', 'b']\n",
        "n = len(stream)\n",
        "print(\"Length of the stream: \", n)\n",
        "stream_rdd = sc.parallelize(list(enumerate(stream, start=1)))  # (position, element)\n",
        "\n",
        "def ams_fixed_trial(i, ei):\n",
        "    def count_ci(record):\n",
        "        pos, val = record\n",
        "        return pos >= i and val == ei\n",
        "\n",
        "    ci = stream_rdd.filter(count_ci).count()\n",
        "    estimate = n * (2 * ci - 1)\n",
        "    return (i, ei, ci, estimate)\n",
        "\n",
        "#positions 3, 8, and 13\n",
        "fixed_indices = [3, 8, 13]\n",
        "results = []\n",
        "for i in fixed_indices:\n",
        "    ei = stream[i - 1]\n",
        "    trial_result = ams_fixed_trial(i, ei)\n",
        "    results.append(trial_result)\n",
        "\n",
        "for res in results:\n",
        "    i, ei, ci, estimate = res\n",
        "    print(f\"AMS Trial for i={i}: e(i)='{ei}', c(i)={ci}, AMS Estimate={estimate}\")\n",
        "\n",
        "f2_estimate = sum([r[3] for r in results]) / len(results)\n",
        "print(f\"\\nFinal AMS F2 Estimate (averaged over 3 trials): {f2_estimate}\")\n",
        "\n",
        "freq = Counter(stream)\n",
        "actual_f2 = sum([v ** 2 for v in freq.values()])\n",
        "print(f\"Actual F2 (Ground Truth): {actual_f2}\")\n",
        "sc.stop()\n"
      ],
      "metadata": {
        "colab": {
          "base_uri": "https://localhost:8080/"
        },
        "id": "VAMB83CYAcyC",
        "outputId": "64584ab9-9d13-4f4e-d871-1ac736230640"
      },
      "execution_count": 6,
      "outputs": [
        {
          "output_type": "stream",
          "name": "stdout",
          "text": [
            "Length of the stream:  15\n",
            "AMS Trial for i=3: e(i)='c', c(i)=3, AMS Estimate=75\n",
            "AMS Trial for i=8: e(i)='d', c(i)=2, AMS Estimate=45\n",
            "AMS Trial for i=13: e(i)='a', c(i)=2, AMS Estimate=45\n",
            "\n",
            "Final AMS F2 Estimate (averaged over 3 trials): 55.0\n",
            "Actual F2 (Ground Truth): 59\n"
          ]
        }
      ]
    },
    {
      "cell_type": "markdown",
      "source": [
        "Network Traffic Monitoring – Detect Heavy IPs using AMS"
      ],
      "metadata": {
        "id": "WqpStZquEats"
      }
    },
    {
      "cell_type": "code",
      "source": [
        "from pyspark import SparkContext\n",
        "from collections import Counter\n",
        "import random\n",
        "sc = SparkContext(\"local\", \"AMS_Network_Traffic\")\n",
        "\n",
        "stream = [\n",
        "    '192.168.1.1', '192.168.1.2', '192.168.1.1', '192.168.1.3',\n",
        "    '192.168.1.2', '192.168.1.1', '192.168.1.4', '192.168.1.5',\n",
        "    '192.168.1.1', '192.168.1.5', '192.168.1.5', '192.168.1.5',\n",
        "    '192.168.1.1', '192.168.1.2', '192.168.1.2', '192.168.1.2',\n",
        "    '192.168.1.1', '192.168.1.3', '192.168.1.5', '192.168.1.5'\n",
        "]\n",
        "n = len(stream)\n",
        "\n",
        "rdd = sc.parallelize(list(enumerate(stream, start=1)))  # (position, IP)\n",
        "\n",
        "def ams_trial(i, ip):\n",
        "    def count_ci(record):\n",
        "        pos, val = record\n",
        "        return pos >= i and val == ip\n",
        "\n",
        "    ci = rdd.filter(count_ci).count()\n",
        "    estimate = n * (2 * ci - 1)\n",
        "    return (i, ip, ci, estimate)\n",
        "\n",
        "num_trials = 10\n",
        "results = []\n",
        "\n",
        "for _ in range(num_trials):\n",
        "    i = random.randint(1, n)\n",
        "    ip = stream[i - 1]\n",
        "    trial_result = ams_trial(i, ip)\n",
        "    results.append(trial_result)\n",
        "\n",
        "for res in results:\n",
        "    i, ip, ci, estimate = res\n",
        "    print(f\"AMS Trial - i={i}: IP='{ip}', c(i)={ci}, AMS Estimate={estimate}\")\n",
        "\n",
        "f2_estimate = sum([r[3] for r in results]) / num_trials\n",
        "print(f\"\\nFinal AMS F2 Estimate (averaged over {num_trials} trials): {f2_estimate}\")\n",
        "\n",
        "freq = Counter(stream)\n",
        "actual_f2 = sum([v ** 2 for v in freq.values()])\n",
        "print(f\"Actual F2 (Ground Truth): {actual_f2}\")\n",
        "\n",
        "print(\"\\n----- Interpretation -----\")\n",
        "if actual_f2 <= n * 2:\n",
        "    print(\"Traffic is relatively uniform. No heavy hitters detected.\")\n",
        "elif actual_f2 > n * 2 and actual_f2 <= n * 4:\n",
        "    print(\"Mild skew detected: Some IPs are appearing more frequently than others.\")\n",
        "else:\n",
        "    print(\"Heavy skew detected! Some IPs dominate the traffic and may need investigation.\")\n",
        "\n",
        "print(f\"AMS Estimate is {f2_estimate:.2f}, and True F2 is {actual_f2}. AMS is a good approximation here!\")\n",
        "\n",
        "sc.stop()\n"
      ],
      "metadata": {
        "colab": {
          "base_uri": "https://localhost:8080/"
        },
        "id": "lf4wdLkIEVxy",
        "outputId": "bf8267fb-9645-4015-f59f-089ff2f88e6f"
      },
      "execution_count": 7,
      "outputs": [
        {
          "output_type": "stream",
          "name": "stdout",
          "text": [
            "AMS Trial - i=2: IP='192.168.1.2', c(i)=5, AMS Estimate=180\n",
            "AMS Trial - i=12: IP='192.168.1.5', c(i)=3, AMS Estimate=100\n",
            "AMS Trial - i=1: IP='192.168.1.1', c(i)=6, AMS Estimate=220\n",
            "AMS Trial - i=3: IP='192.168.1.1', c(i)=5, AMS Estimate=180\n",
            "AMS Trial - i=4: IP='192.168.1.3', c(i)=2, AMS Estimate=60\n",
            "AMS Trial - i=16: IP='192.168.1.2', c(i)=1, AMS Estimate=20\n",
            "AMS Trial - i=11: IP='192.168.1.5', c(i)=4, AMS Estimate=140\n",
            "AMS Trial - i=16: IP='192.168.1.2', c(i)=1, AMS Estimate=20\n",
            "AMS Trial - i=16: IP='192.168.1.2', c(i)=1, AMS Estimate=20\n",
            "AMS Trial - i=9: IP='192.168.1.1', c(i)=3, AMS Estimate=100\n",
            "\n",
            "Final AMS F2 Estimate (averaged over 10 trials): 104.0\n",
            "Actual F2 (Ground Truth): 102\n",
            "\n",
            "----- Interpretation -----\n",
            "Heavy skew detected! Some IPs dominate the traffic and may need investigation.\n",
            "AMS Estimate is 104.00, and True F2 is 102. AMS is a good approximation here!\n"
          ]
        }
      ]
    }
  ]
}